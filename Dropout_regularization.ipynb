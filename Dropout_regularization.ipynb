{
  "nbformat": 4,
  "nbformat_minor": 0,
  "metadata": {
    "colab": {
      "name": "Dropout_regularization",
      "provenance": [],
      "collapsed_sections": [],
      "authorship_tag": "ABX9TyO73yLTo35tJbfwSKiBve2l",
      "include_colab_link": true
    },
    "kernelspec": {
      "name": "python3",
      "display_name": "Python 3"
    },
    "language_info": {
      "name": "python"
    }
  },
  "cells": [
    {
      "cell_type": "markdown",
      "metadata": {
        "id": "view-in-github",
        "colab_type": "text"
      },
      "source": [
        "<a href=\"https://colab.research.google.com/github/SonalikaSingh/Droupout_Regularization/blob/main/Dropout_regularization.ipynb\" target=\"_parent\"><img src=\"https://colab.research.google.com/assets/colab-badge.svg\" alt=\"Open In Colab\"/></a>"
      ]
    },
    {
      "cell_type": "code",
      "metadata": {
        "id": "sfcuiaQ4tH-r"
      },
      "source": [
        "import numpy as np\n",
        "import pandas as pd\n",
        "import matplotlib.pyplot as plt\n",
        "import seaborn as sns\n",
        "import tensorflow as tf\n",
        "import keras"
      ],
      "execution_count": 42,
      "outputs": []
    },
    {
      "cell_type": "markdown",
      "metadata": {
        "id": "n9N5YLTm21kr"
      },
      "source": [
        "Download dataset:https://www.kaggle.com/andrewmvd/heart-failure-clinical-data/tasks?taskId=1177"
      ]
    },
    {
      "cell_type": "code",
      "metadata": {
        "colab": {
          "base_uri": "https://localhost:8080/",
          "height": 224
        },
        "id": "PoGZcPZjv8v0",
        "outputId": "7cdcbb6d-5f15-498d-cc70-863a9d24a49e"
      },
      "source": [
        "df=pd.read_csv('heart_failure_dataset.csv')\n",
        "df.head(5)"
      ],
      "execution_count": 43,
      "outputs": [
        {
          "output_type": "execute_result",
          "data": {
            "text/html": [
              "<div>\n",
              "<style scoped>\n",
              "    .dataframe tbody tr th:only-of-type {\n",
              "        vertical-align: middle;\n",
              "    }\n",
              "\n",
              "    .dataframe tbody tr th {\n",
              "        vertical-align: top;\n",
              "    }\n",
              "\n",
              "    .dataframe thead th {\n",
              "        text-align: right;\n",
              "    }\n",
              "</style>\n",
              "<table border=\"1\" class=\"dataframe\">\n",
              "  <thead>\n",
              "    <tr style=\"text-align: right;\">\n",
              "      <th></th>\n",
              "      <th>age</th>\n",
              "      <th>anaemia</th>\n",
              "      <th>creatinine_phosphokinase</th>\n",
              "      <th>diabetes</th>\n",
              "      <th>ejection_fraction</th>\n",
              "      <th>high_blood_pressure</th>\n",
              "      <th>platelets</th>\n",
              "      <th>serum_creatinine</th>\n",
              "      <th>serum_sodium</th>\n",
              "      <th>sex</th>\n",
              "      <th>smoking</th>\n",
              "      <th>time</th>\n",
              "      <th>DEATH_EVENT</th>\n",
              "    </tr>\n",
              "  </thead>\n",
              "  <tbody>\n",
              "    <tr>\n",
              "      <th>0</th>\n",
              "      <td>75.0</td>\n",
              "      <td>0</td>\n",
              "      <td>582</td>\n",
              "      <td>0</td>\n",
              "      <td>20</td>\n",
              "      <td>1</td>\n",
              "      <td>265000.00</td>\n",
              "      <td>1.9</td>\n",
              "      <td>130</td>\n",
              "      <td>1</td>\n",
              "      <td>0</td>\n",
              "      <td>4</td>\n",
              "      <td>1</td>\n",
              "    </tr>\n",
              "    <tr>\n",
              "      <th>1</th>\n",
              "      <td>55.0</td>\n",
              "      <td>0</td>\n",
              "      <td>7861</td>\n",
              "      <td>0</td>\n",
              "      <td>38</td>\n",
              "      <td>0</td>\n",
              "      <td>263358.03</td>\n",
              "      <td>1.1</td>\n",
              "      <td>136</td>\n",
              "      <td>1</td>\n",
              "      <td>0</td>\n",
              "      <td>6</td>\n",
              "      <td>1</td>\n",
              "    </tr>\n",
              "    <tr>\n",
              "      <th>2</th>\n",
              "      <td>65.0</td>\n",
              "      <td>0</td>\n",
              "      <td>146</td>\n",
              "      <td>0</td>\n",
              "      <td>20</td>\n",
              "      <td>0</td>\n",
              "      <td>162000.00</td>\n",
              "      <td>1.3</td>\n",
              "      <td>129</td>\n",
              "      <td>1</td>\n",
              "      <td>1</td>\n",
              "      <td>7</td>\n",
              "      <td>1</td>\n",
              "    </tr>\n",
              "    <tr>\n",
              "      <th>3</th>\n",
              "      <td>50.0</td>\n",
              "      <td>1</td>\n",
              "      <td>111</td>\n",
              "      <td>0</td>\n",
              "      <td>20</td>\n",
              "      <td>0</td>\n",
              "      <td>210000.00</td>\n",
              "      <td>1.9</td>\n",
              "      <td>137</td>\n",
              "      <td>1</td>\n",
              "      <td>0</td>\n",
              "      <td>7</td>\n",
              "      <td>1</td>\n",
              "    </tr>\n",
              "    <tr>\n",
              "      <th>4</th>\n",
              "      <td>65.0</td>\n",
              "      <td>1</td>\n",
              "      <td>160</td>\n",
              "      <td>1</td>\n",
              "      <td>20</td>\n",
              "      <td>0</td>\n",
              "      <td>327000.00</td>\n",
              "      <td>2.7</td>\n",
              "      <td>116</td>\n",
              "      <td>0</td>\n",
              "      <td>0</td>\n",
              "      <td>8</td>\n",
              "      <td>1</td>\n",
              "    </tr>\n",
              "  </tbody>\n",
              "</table>\n",
              "</div>"
            ],
            "text/plain": [
              "    age  anaemia  creatinine_phosphokinase  ...  smoking  time  DEATH_EVENT\n",
              "0  75.0        0                       582  ...        0     4            1\n",
              "1  55.0        0                      7861  ...        0     6            1\n",
              "2  65.0        0                       146  ...        1     7            1\n",
              "3  50.0        1                       111  ...        0     7            1\n",
              "4  65.0        1                       160  ...        0     8            1\n",
              "\n",
              "[5 rows x 13 columns]"
            ]
          },
          "metadata": {
            "tags": []
          },
          "execution_count": 43
        }
      ]
    },
    {
      "cell_type": "markdown",
      "metadata": {
        "id": "NT9vokG_w1BS"
      },
      "source": [
        "Using seaborn to check where data is missing"
      ]
    },
    {
      "cell_type": "code",
      "metadata": {
        "colab": {
          "base_uri": "https://localhost:8080/",
          "height": 402
        },
        "id": "FdZkauSdwiSf",
        "outputId": "79566acb-2c58-4db6-ecb0-cef4a87c4d0a"
      },
      "source": [
        "sns.heatmap(df.isnull(),yticklabels=False,cbar=False,cmap='viridis')"
      ],
      "execution_count": 44,
      "outputs": [
        {
          "output_type": "execute_result",
          "data": {
            "text/plain": [
              "<matplotlib.axes._subplots.AxesSubplot at 0x7fd7be522e10>"
            ]
          },
          "metadata": {
            "tags": []
          },
          "execution_count": 44
        },
        {
          "output_type": "display_data",
          "data": {
            "image/png": "[encoded data removed]",
            "text/plain": [
              "<Figure size 432x288 with 1 Axes>"
            ]
          },
          "metadata": {
            "tags": [],
            "needs_background": "light"
          }
        }
      ]
    },
    {
      "cell_type": "code",
      "metadata": {
        "colab": {
          "base_uri": "https://localhost:8080/"
        },
        "id": "xcy3kD3bw9y-",
        "outputId": "d8dbe361-3d7e-4f81-d4b4-8d0dc9b21803"
      },
      "source": [
        "df.dtypes"
      ],
      "execution_count": 45,
      "outputs": [
        {
          "output_type": "execute_result",
          "data": {
            "text/plain": [
              "age                         float64\n",
              "anaemia                       int64\n",
              "creatinine_phosphokinase      int64\n",
              "diabetes                      int64\n",
              "ejection_fraction             int64\n",
              "high_blood_pressure           int64\n",
              "platelets                   float64\n",
              "serum_creatinine            float64\n",
              "serum_sodium                  int64\n",
              "sex                           int64\n",
              "smoking                       int64\n",
              "time                          int64\n",
              "DEATH_EVENT                   int64\n",
              "dtype: object"
            ]
          },
          "metadata": {
            "tags": []
          },
          "execution_count": 45
        }
      ]
    },
    {
      "cell_type": "code",
      "metadata": {
        "colab": {
          "base_uri": "https://localhost:8080/"
        },
        "id": "qo8sZT04xEP9",
        "outputId": "372478ed-5218-4251-db91-cd9099b4f984"
      },
      "source": [
        "df.shape"
      ],
      "execution_count": 46,
      "outputs": [
        {
          "output_type": "execute_result",
          "data": {
            "text/plain": [
              "(299, 13)"
            ]
          },
          "metadata": {
            "tags": []
          },
          "execution_count": 46
        }
      ]
    },
    {
      "cell_type": "markdown",
      "metadata": {
        "id": "XfrJlPSCxPDo"
      },
      "source": [
        "Getting all the data between 0 and 1"
      ]
    },
    {
      "cell_type": "code",
      "metadata": {
        "id": "CIt1aXYDxNHD"
      },
      "source": [
        "cols_to_scale = ['creatinine_phosphokinase','age','ejection_fraction','platelets','serum_creatinine','serum_sodium','time']\n",
        "from sklearn.preprocessing import MinMaxScaler\n",
        "scaler = MinMaxScaler()\n",
        "df[cols_to_scale] = scaler.fit_transform(df[cols_to_scale])"
      ],
      "execution_count": 47,
      "outputs": []
    },
    {
      "cell_type": "code",
      "metadata": {
        "colab": {
          "base_uri": "https://localhost:8080/",
          "height": 224
        },
        "id": "xeIwvyDpyCpL",
        "outputId": "32d1d389-0394-46ac-8cd6-cf65c92c7394"
      },
      "source": [
        "df.head(5)"
      ],
      "execution_count": 48,
      "outputs": [
        {
          "output_type": "execute_result",
          "data": {
            "text/html": [
              "<div>\n",
              "<style scoped>\n",
              "    .dataframe tbody tr th:only-of-type {\n",
              "        vertical-align: middle;\n",
              "    }\n",
              "\n",
              "    .dataframe tbody tr th {\n",
              "        vertical-align: top;\n",
              "    }\n",
              "\n",
              "    .dataframe thead th {\n",
              "        text-align: right;\n",
              "    }\n",
              "</style>\n",
              "<table border=\"1\" class=\"dataframe\">\n",
              "  <thead>\n",
              "    <tr style=\"text-align: right;\">\n",
              "      <th></th>\n",
              "      <th>age</th>\n",
              "      <th>anaemia</th>\n",
              "      <th>creatinine_phosphokinase</th>\n",
              "      <th>diabetes</th>\n",
              "      <th>ejection_fraction</th>\n",
              "      <th>high_blood_pressure</th>\n",
              "      <th>platelets</th>\n",
              "      <th>serum_creatinine</th>\n",
              "      <th>serum_sodium</th>\n",
              "      <th>sex</th>\n",
              "      <th>smoking</th>\n",
              "      <th>time</th>\n",
              "      <th>DEATH_EVENT</th>\n",
              "    </tr>\n",
              "  </thead>\n",
              "  <tbody>\n",
              "    <tr>\n",
              "      <th>0</th>\n",
              "      <td>0.636364</td>\n",
              "      <td>0</td>\n",
              "      <td>0.071319</td>\n",
              "      <td>0</td>\n",
              "      <td>0.090909</td>\n",
              "      <td>1</td>\n",
              "      <td>0.290823</td>\n",
              "      <td>0.157303</td>\n",
              "      <td>0.485714</td>\n",
              "      <td>1</td>\n",
              "      <td>0</td>\n",
              "      <td>0.000000</td>\n",
              "      <td>1</td>\n",
              "    </tr>\n",
              "    <tr>\n",
              "      <th>1</th>\n",
              "      <td>0.272727</td>\n",
              "      <td>0</td>\n",
              "      <td>1.000000</td>\n",
              "      <td>0</td>\n",
              "      <td>0.363636</td>\n",
              "      <td>0</td>\n",
              "      <td>0.288833</td>\n",
              "      <td>0.067416</td>\n",
              "      <td>0.657143</td>\n",
              "      <td>1</td>\n",
              "      <td>0</td>\n",
              "      <td>0.007117</td>\n",
              "      <td>1</td>\n",
              "    </tr>\n",
              "    <tr>\n",
              "      <th>2</th>\n",
              "      <td>0.454545</td>\n",
              "      <td>0</td>\n",
              "      <td>0.015693</td>\n",
              "      <td>0</td>\n",
              "      <td>0.090909</td>\n",
              "      <td>0</td>\n",
              "      <td>0.165960</td>\n",
              "      <td>0.089888</td>\n",
              "      <td>0.457143</td>\n",
              "      <td>1</td>\n",
              "      <td>1</td>\n",
              "      <td>0.010676</td>\n",
              "      <td>1</td>\n",
              "    </tr>\n",
              "    <tr>\n",
              "      <th>3</th>\n",
              "      <td>0.181818</td>\n",
              "      <td>1</td>\n",
              "      <td>0.011227</td>\n",
              "      <td>0</td>\n",
              "      <td>0.090909</td>\n",
              "      <td>0</td>\n",
              "      <td>0.224148</td>\n",
              "      <td>0.157303</td>\n",
              "      <td>0.685714</td>\n",
              "      <td>1</td>\n",
              "      <td>0</td>\n",
              "      <td>0.010676</td>\n",
              "      <td>1</td>\n",
              "    </tr>\n",
              "    <tr>\n",
              "      <th>4</th>\n",
              "      <td>0.454545</td>\n",
              "      <td>1</td>\n",
              "      <td>0.017479</td>\n",
              "      <td>1</td>\n",
              "      <td>0.090909</td>\n",
              "      <td>0</td>\n",
              "      <td>0.365984</td>\n",
              "      <td>0.247191</td>\n",
              "      <td>0.085714</td>\n",
              "      <td>0</td>\n",
              "      <td>0</td>\n",
              "      <td>0.014235</td>\n",
              "      <td>1</td>\n",
              "    </tr>\n",
              "  </tbody>\n",
              "</table>\n",
              "</div>"
            ],
            "text/plain": [
              "        age  anaemia  creatinine_phosphokinase  ...  smoking      time  DEATH_EVENT\n",
              "0  0.636364        0                  0.071319  ...        0  0.000000            1\n",
              "1  0.272727        0                  1.000000  ...        0  0.007117            1\n",
              "2  0.454545        0                  0.015693  ...        1  0.010676            1\n",
              "3  0.181818        1                  0.011227  ...        0  0.010676            1\n",
              "4  0.454545        1                  0.017479  ...        0  0.014235            1\n",
              "\n",
              "[5 rows x 13 columns]"
            ]
          },
          "metadata": {
            "tags": []
          },
          "execution_count": 48
        }
      ]
    },
    {
      "cell_type": "code",
      "metadata": {
        "colab": {
          "base_uri": "https://localhost:8080/"
        },
        "id": "pv_EkBgpyO_K",
        "outputId": "5482b361-b7ad-4864-a61b-f6fbb8bfc349"
      },
      "source": [
        "X = df.drop('DEATH_EVENT', axis='columns')\n",
        "y = df['DEATH_EVENT']\n",
        "y.head(10)"
      ],
      "execution_count": 49,
      "outputs": [
        {
          "output_type": "execute_result",
          "data": {
            "text/plain": [
              "0    1\n",
              "1    1\n",
              "2    1\n",
              "3    1\n",
              "4    1\n",
              "5    1\n",
              "6    1\n",
              "7    1\n",
              "8    1\n",
              "9    1\n",
              "Name: DEATH_EVENT, dtype: int64"
            ]
          },
          "metadata": {
            "tags": []
          },
          "execution_count": 49
        }
      ]
    },
    {
      "cell_type": "code",
      "metadata": {
        "id": "Zht6UupJyhdA"
      },
      "source": [
        "from sklearn.model_selection import train_test_split\n",
        "X_train, X_test, y_train, y_test = train_test_split(X, y, test_size=0.25, random_state=1)"
      ],
      "execution_count": 50,
      "outputs": []
    },
    {
      "cell_type": "code",
      "metadata": {
        "colab": {
          "base_uri": "https://localhost:8080/",
          "height": 224
        },
        "id": "jvCdHx_lywyr",
        "outputId": "d3166a4a-43b5-4220-cb70-e45f06d0f817"
      },
      "source": [
        "X_train.head(5)"
      ],
      "execution_count": 51,
      "outputs": [
        {
          "output_type": "execute_result",
          "data": {
            "text/html": [
              "<div>\n",
              "<style scoped>\n",
              "    .dataframe tbody tr th:only-of-type {\n",
              "        vertical-align: middle;\n",
              "    }\n",
              "\n",
              "    .dataframe tbody tr th {\n",
              "        vertical-align: top;\n",
              "    }\n",
              "\n",
              "    .dataframe thead th {\n",
              "        text-align: right;\n",
              "    }\n",
              "</style>\n",
              "<table border=\"1\" class=\"dataframe\">\n",
              "  <thead>\n",
              "    <tr style=\"text-align: right;\">\n",
              "      <th></th>\n",
              "      <th>age</th>\n",
              "      <th>anaemia</th>\n",
              "      <th>creatinine_phosphokinase</th>\n",
              "      <th>diabetes</th>\n",
              "      <th>ejection_fraction</th>\n",
              "      <th>high_blood_pressure</th>\n",
              "      <th>platelets</th>\n",
              "      <th>serum_creatinine</th>\n",
              "      <th>serum_sodium</th>\n",
              "      <th>sex</th>\n",
              "      <th>smoking</th>\n",
              "      <th>time</th>\n",
              "    </tr>\n",
              "  </thead>\n",
              "  <tbody>\n",
              "    <tr>\n",
              "      <th>5</th>\n",
              "      <td>0.909091</td>\n",
              "      <td>1</td>\n",
              "      <td>0.003062</td>\n",
              "      <td>0</td>\n",
              "      <td>0.393939</td>\n",
              "      <td>1</td>\n",
              "      <td>0.216875</td>\n",
              "      <td>0.179775</td>\n",
              "      <td>0.542857</td>\n",
              "      <td>1</td>\n",
              "      <td>1</td>\n",
              "      <td>0.014235</td>\n",
              "    </tr>\n",
              "    <tr>\n",
              "      <th>102</th>\n",
              "      <td>0.727273</td>\n",
              "      <td>0</td>\n",
              "      <td>0.111636</td>\n",
              "      <td>0</td>\n",
              "      <td>0.166667</td>\n",
              "      <td>0</td>\n",
              "      <td>0.150200</td>\n",
              "      <td>0.067416</td>\n",
              "      <td>0.885714</td>\n",
              "      <td>1</td>\n",
              "      <td>1</td>\n",
              "      <td>0.295374</td>\n",
              "    </tr>\n",
              "    <tr>\n",
              "      <th>38</th>\n",
              "      <td>0.363636</td>\n",
              "      <td>0</td>\n",
              "      <td>0.335928</td>\n",
              "      <td>1</td>\n",
              "      <td>0.242424</td>\n",
              "      <td>0</td>\n",
              "      <td>0.339314</td>\n",
              "      <td>0.202247</td>\n",
              "      <td>0.685714</td>\n",
              "      <td>1</td>\n",
              "      <td>0</td>\n",
              "      <td>0.092527</td>\n",
              "    </tr>\n",
              "    <tr>\n",
              "      <th>95</th>\n",
              "      <td>0.327273</td>\n",
              "      <td>1</td>\n",
              "      <td>0.014034</td>\n",
              "      <td>0</td>\n",
              "      <td>0.696970</td>\n",
              "      <td>1</td>\n",
              "      <td>0.235059</td>\n",
              "      <td>0.056180</td>\n",
              "      <td>0.800000</td>\n",
              "      <td>1</td>\n",
              "      <td>0</td>\n",
              "      <td>0.281139</td>\n",
              "    </tr>\n",
              "    <tr>\n",
              "      <th>67</th>\n",
              "      <td>0.581818</td>\n",
              "      <td>1</td>\n",
              "      <td>0.011100</td>\n",
              "      <td>0</td>\n",
              "      <td>0.166667</td>\n",
              "      <td>0</td>\n",
              "      <td>0.301734</td>\n",
              "      <td>0.056180</td>\n",
              "      <td>0.771429</td>\n",
              "      <td>1</td>\n",
              "      <td>1</td>\n",
              "      <td>0.217082</td>\n",
              "    </tr>\n",
              "  </tbody>\n",
              "</table>\n",
              "</div>"
            ],
            "text/plain": [
              "          age  anaemia  creatinine_phosphokinase  ...  sex  smoking      time\n",
              "5    0.909091        1                  0.003062  ...    1        1  0.014235\n",
              "102  0.727273        0                  0.111636  ...    1        1  0.295374\n",
              "38   0.363636        0                  0.335928  ...    1        0  0.092527\n",
              "95   0.327273        1                  0.014034  ...    1        0  0.281139\n",
              "67   0.581818        1                  0.011100  ...    1        1  0.217082\n",
              "\n",
              "[5 rows x 12 columns]"
            ]
          },
          "metadata": {
            "tags": []
          },
          "execution_count": 51
        }
      ]
    },
    {
      "cell_type": "code",
      "metadata": {
        "colab": {
          "base_uri": "https://localhost:8080/"
        },
        "id": "4MZZ27POzINQ",
        "outputId": "99b8d5a6-962d-41a8-bbc1-8c9b08733237"
      },
      "source": [
        "X_train.shape"
      ],
      "execution_count": 52,
      "outputs": [
        {
          "output_type": "execute_result",
          "data": {
            "text/plain": [
              "(224, 12)"
            ]
          },
          "metadata": {
            "tags": []
          },
          "execution_count": 52
        }
      ]
    },
    {
      "cell_type": "markdown",
      "metadata": {
        "id": "uAhSgxvTy-yP"
      },
      "source": [
        "MODEL WITHOUT DROUPOUT LAYER"
      ]
    },
    {
      "cell_type": "code",
      "metadata": {
        "colab": {
          "base_uri": "https://localhost:8080/"
        },
        "id": "vVufLW_Vy68K",
        "outputId": "96ccbef4-4fa9-4d91-e034-8de224505b37"
      },
      "source": [
        "\n",
        "model = keras.Sequential([\n",
        "    keras.layers.Dense(60, input_dim=12, activation='relu'),\n",
        "    keras.layers.Dense(30, activation='relu'),\n",
        "    keras.layers.Dense(15, activation='relu'),\n",
        "    keras.layers.Dense(1, activation='sigmoid')\n",
        "])\n",
        "\n",
        "model.compile(loss='binary_crossentropy', optimizer='adam', metrics=['accuracy'])\n",
        "\n",
        "model.fit(X_train, y_train, epochs=200, batch_size=8)"
      ],
      "execution_count": 53,
      "outputs": [
        {
          "output_type": "stream",
          "text": [
            "Epoch 1/200\n",
            "28/28 [==============================] - 1s 2ms/step - loss: 0.6975 - accuracy: 0.5246\n",
            "Epoch 2/200\n",
            "28/28 [==============================] - 0s 1ms/step - loss: 0.6362 - accuracy: 0.6816\n",
            "Epoch 3/200\n",
            "28/28 [==============================] - 0s 2ms/step - loss: 0.6054 - accuracy: 0.6692\n",
            "Epoch 4/200\n",
            "28/28 [==============================] - 0s 2ms/step - loss: 0.6306 - accuracy: 0.6194\n",
            "Epoch 5/200\n",
            "28/28 [==============================] - 0s 2ms/step - loss: 0.5697 - accuracy: 0.6747\n",
            "Epoch 6/200\n",
            "28/28 [==============================] - 0s 2ms/step - loss: 0.5618 - accuracy: 0.6786\n",
            "Epoch 7/200\n",
            "28/28 [==============================] - 0s 2ms/step - loss: 0.5338 - accuracy: 0.7211\n",
            "Epoch 8/200\n",
            "28/28 [==============================] - 0s 2ms/step - loss: 0.5127 - accuracy: 0.7785\n",
            "Epoch 9/200\n",
            "28/28 [==============================] - 0s 2ms/step - loss: 0.4393 - accuracy: 0.7970\n",
            "Epoch 10/200\n",
            "28/28 [==============================] - 0s 2ms/step - loss: 0.4148 - accuracy: 0.8497\n",
            "Epoch 11/200\n",
            "28/28 [==============================] - 0s 2ms/step - loss: 0.4553 - accuracy: 0.8068\n",
            "Epoch 12/200\n",
            "28/28 [==============================] - 0s 2ms/step - loss: 0.3986 - accuracy: 0.8259\n",
            "Epoch 13/200\n",
            "28/28 [==============================] - 0s 2ms/step - loss: 0.4226 - accuracy: 0.7920\n",
            "Epoch 14/200\n",
            "28/28 [==============================] - 0s 2ms/step - loss: 0.2796 - accuracy: 0.8988\n",
            "Epoch 15/200\n",
            "28/28 [==============================] - 0s 2ms/step - loss: 0.3427 - accuracy: 0.8650\n",
            "Epoch 16/200\n",
            "28/28 [==============================] - 0s 2ms/step - loss: 0.3300 - accuracy: 0.8850\n",
            "Epoch 17/200\n",
            "28/28 [==============================] - 0s 2ms/step - loss: 0.3884 - accuracy: 0.8308\n",
            "Epoch 18/200\n",
            "28/28 [==============================] - 0s 2ms/step - loss: 0.3844 - accuracy: 0.8538\n",
            "Epoch 19/200\n",
            "28/28 [==============================] - 0s 2ms/step - loss: 0.3271 - accuracy: 0.8514\n",
            "Epoch 20/200\n",
            "28/28 [==============================] - 0s 1ms/step - loss: 0.3566 - accuracy: 0.8642\n",
            "Epoch 21/200\n",
            "28/28 [==============================] - 0s 2ms/step - loss: 0.3378 - accuracy: 0.8706\n",
            "Epoch 22/200\n",
            "28/28 [==============================] - 0s 2ms/step - loss: 0.3507 - accuracy: 0.8418\n",
            "Epoch 23/200\n",
            "28/28 [==============================] - 0s 2ms/step - loss: 0.3173 - accuracy: 0.8660\n",
            "Epoch 24/200\n",
            "28/28 [==============================] - 0s 2ms/step - loss: 0.3795 - accuracy: 0.8160\n",
            "Epoch 25/200\n",
            "28/28 [==============================] - 0s 2ms/step - loss: 0.3039 - accuracy: 0.8793\n",
            "Epoch 26/200\n",
            "28/28 [==============================] - 0s 2ms/step - loss: 0.3418 - accuracy: 0.8634\n",
            "Epoch 27/200\n",
            "28/28 [==============================] - 0s 1ms/step - loss: 0.3178 - accuracy: 0.8831\n",
            "Epoch 28/200\n",
            "28/28 [==============================] - 0s 1ms/step - loss: 0.2841 - accuracy: 0.8855\n",
            "Epoch 29/200\n",
            "28/28 [==============================] - 0s 2ms/step - loss: 0.3462 - accuracy: 0.8574\n",
            "Epoch 30/200\n",
            "28/28 [==============================] - 0s 2ms/step - loss: 0.3003 - accuracy: 0.8715\n",
            "Epoch 31/200\n",
            "28/28 [==============================] - 0s 2ms/step - loss: 0.2723 - accuracy: 0.9014\n",
            "Epoch 32/200\n",
            "28/28 [==============================] - 0s 2ms/step - loss: 0.3143 - accuracy: 0.8733\n",
            "Epoch 33/200\n",
            "28/28 [==============================] - 0s 2ms/step - loss: 0.2952 - accuracy: 0.8592\n",
            "Epoch 34/200\n",
            "28/28 [==============================] - 0s 2ms/step - loss: 0.3310 - accuracy: 0.8721\n",
            "Epoch 35/200\n",
            "28/28 [==============================] - 0s 2ms/step - loss: 0.3140 - accuracy: 0.8711\n",
            "Epoch 36/200\n",
            "28/28 [==============================] - 0s 2ms/step - loss: 0.3017 - accuracy: 0.8589\n",
            "Epoch 37/200\n",
            "28/28 [==============================] - 0s 2ms/step - loss: 0.3090 - accuracy: 0.8724\n",
            "Epoch 38/200\n",
            "28/28 [==============================] - 0s 2ms/step - loss: 0.3017 - accuracy: 0.8582\n",
            "Epoch 39/200\n",
            "28/28 [==============================] - 0s 2ms/step - loss: 0.3181 - accuracy: 0.8898\n",
            "Epoch 40/200\n",
            "28/28 [==============================] - 0s 2ms/step - loss: 0.2465 - accuracy: 0.8880\n",
            "Epoch 41/200\n",
            "28/28 [==============================] - 0s 2ms/step - loss: 0.2972 - accuracy: 0.8942\n",
            "Epoch 42/200\n",
            "28/28 [==============================] - 0s 1ms/step - loss: 0.2843 - accuracy: 0.8713\n",
            "Epoch 43/200\n",
            "28/28 [==============================] - 0s 1ms/step - loss: 0.2281 - accuracy: 0.9300\n",
            "Epoch 44/200\n",
            "28/28 [==============================] - 0s 1ms/step - loss: 0.2425 - accuracy: 0.9204\n",
            "Epoch 45/200\n",
            "28/28 [==============================] - 0s 2ms/step - loss: 0.2586 - accuracy: 0.8911\n",
            "Epoch 46/200\n",
            "28/28 [==============================] - 0s 1ms/step - loss: 0.2503 - accuracy: 0.9063\n",
            "Epoch 47/200\n",
            "28/28 [==============================] - 0s 2ms/step - loss: 0.2470 - accuracy: 0.9074\n",
            "Epoch 48/200\n",
            "28/28 [==============================] - 0s 2ms/step - loss: 0.1983 - accuracy: 0.9309\n",
            "Epoch 49/200\n",
            "28/28 [==============================] - 0s 2ms/step - loss: 0.2766 - accuracy: 0.8654\n",
            "Epoch 50/200\n",
            "28/28 [==============================] - 0s 2ms/step - loss: 0.2549 - accuracy: 0.9116\n",
            "Epoch 51/200\n",
            "28/28 [==============================] - 0s 2ms/step - loss: 0.2495 - accuracy: 0.9044\n",
            "Epoch 52/200\n",
            "28/28 [==============================] - 0s 2ms/step - loss: 0.2549 - accuracy: 0.9157\n",
            "Epoch 53/200\n",
            "28/28 [==============================] - 0s 1ms/step - loss: 0.2191 - accuracy: 0.9148\n",
            "Epoch 54/200\n",
            "28/28 [==============================] - 0s 2ms/step - loss: 0.2487 - accuracy: 0.9054\n",
            "Epoch 55/200\n",
            "28/28 [==============================] - 0s 2ms/step - loss: 0.2019 - accuracy: 0.9286\n",
            "Epoch 56/200\n",
            "28/28 [==============================] - 0s 2ms/step - loss: 0.2101 - accuracy: 0.9125\n",
            "Epoch 57/200\n",
            "28/28 [==============================] - 0s 2ms/step - loss: 0.2385 - accuracy: 0.9145\n",
            "Epoch 58/200\n",
            "28/28 [==============================] - 0s 2ms/step - loss: 0.3409 - accuracy: 0.8626\n",
            "Epoch 59/200\n",
            "28/28 [==============================] - 0s 2ms/step - loss: 0.2825 - accuracy: 0.8434\n",
            "Epoch 60/200\n",
            "28/28 [==============================] - 0s 1ms/step - loss: 0.2280 - accuracy: 0.9117\n",
            "Epoch 61/200\n",
            "28/28 [==============================] - 0s 1ms/step - loss: 0.2328 - accuracy: 0.8945\n",
            "Epoch 62/200\n",
            "28/28 [==============================] - 0s 1ms/step - loss: 0.2314 - accuracy: 0.8968\n",
            "Epoch 63/200\n",
            "28/28 [==============================] - 0s 1ms/step - loss: 0.2582 - accuracy: 0.9053\n",
            "Epoch 64/200\n",
            "28/28 [==============================] - 0s 2ms/step - loss: 0.1873 - accuracy: 0.9189\n",
            "Epoch 65/200\n",
            "28/28 [==============================] - 0s 2ms/step - loss: 0.2251 - accuracy: 0.9204\n",
            "Epoch 66/200\n",
            "28/28 [==============================] - 0s 1ms/step - loss: 0.2759 - accuracy: 0.8775\n",
            "Epoch 67/200\n",
            "28/28 [==============================] - 0s 2ms/step - loss: 0.2191 - accuracy: 0.9174\n",
            "Epoch 68/200\n",
            "28/28 [==============================] - 0s 2ms/step - loss: 0.2260 - accuracy: 0.8797\n",
            "Epoch 69/200\n",
            "28/28 [==============================] - 0s 2ms/step - loss: 0.1658 - accuracy: 0.9400\n",
            "Epoch 70/200\n",
            "28/28 [==============================] - 0s 1ms/step - loss: 0.1940 - accuracy: 0.8985\n",
            "Epoch 71/200\n",
            "28/28 [==============================] - 0s 2ms/step - loss: 0.1544 - accuracy: 0.9334\n",
            "Epoch 72/200\n",
            "28/28 [==============================] - 0s 2ms/step - loss: 0.2082 - accuracy: 0.9172\n",
            "Epoch 73/200\n",
            "28/28 [==============================] - 0s 2ms/step - loss: 0.2145 - accuracy: 0.8941\n",
            "Epoch 74/200\n",
            "28/28 [==============================] - 0s 2ms/step - loss: 0.1386 - accuracy: 0.9496\n",
            "Epoch 75/200\n",
            "28/28 [==============================] - 0s 2ms/step - loss: 0.1822 - accuracy: 0.9144\n",
            "Epoch 76/200\n",
            "28/28 [==============================] - 0s 2ms/step - loss: 0.1878 - accuracy: 0.9098\n",
            "Epoch 77/200\n",
            "28/28 [==============================] - 0s 1ms/step - loss: 0.2521 - accuracy: 0.9033\n",
            "Epoch 78/200\n",
            "28/28 [==============================] - 0s 2ms/step - loss: 0.1814 - accuracy: 0.9109\n",
            "Epoch 79/200\n",
            "28/28 [==============================] - 0s 2ms/step - loss: 0.1888 - accuracy: 0.9130\n",
            "Epoch 80/200\n",
            "28/28 [==============================] - 0s 2ms/step - loss: 0.1790 - accuracy: 0.9150\n",
            "Epoch 81/200\n",
            "28/28 [==============================] - 0s 2ms/step - loss: 0.1845 - accuracy: 0.9345\n",
            "Epoch 82/200\n",
            "28/28 [==============================] - 0s 2ms/step - loss: 0.1860 - accuracy: 0.9202\n",
            "Epoch 83/200\n",
            "28/28 [==============================] - 0s 2ms/step - loss: 0.1375 - accuracy: 0.9099\n",
            "Epoch 84/200\n",
            "28/28 [==============================] - 0s 2ms/step - loss: 0.1873 - accuracy: 0.9070\n",
            "Epoch 85/200\n",
            "28/28 [==============================] - 0s 1ms/step - loss: 0.1755 - accuracy: 0.9029\n",
            "Epoch 86/200\n",
            "28/28 [==============================] - 0s 2ms/step - loss: 0.2017 - accuracy: 0.9111\n",
            "Epoch 87/200\n",
            "28/28 [==============================] - 0s 2ms/step - loss: 0.1794 - accuracy: 0.9202\n",
            "Epoch 88/200\n",
            "28/28 [==============================] - 0s 2ms/step - loss: 0.1383 - accuracy: 0.9458\n",
            "Epoch 89/200\n",
            "28/28 [==============================] - 0s 2ms/step - loss: 0.1665 - accuracy: 0.9188\n",
            "Epoch 90/200\n",
            "28/28 [==============================] - 0s 2ms/step - loss: 0.1335 - accuracy: 0.9395\n",
            "Epoch 91/200\n",
            "28/28 [==============================] - 0s 2ms/step - loss: 0.1334 - accuracy: 0.9348\n",
            "Epoch 92/200\n",
            "28/28 [==============================] - 0s 2ms/step - loss: 0.1266 - accuracy: 0.9605\n",
            "Epoch 93/200\n",
            "28/28 [==============================] - 0s 2ms/step - loss: 0.1066 - accuracy: 0.9782\n",
            "Epoch 94/200\n",
            "28/28 [==============================] - 0s 2ms/step - loss: 0.1360 - accuracy: 0.9405\n",
            "Epoch 95/200\n",
            "28/28 [==============================] - 0s 1ms/step - loss: 0.1725 - accuracy: 0.9243\n",
            "Epoch 96/200\n",
            "28/28 [==============================] - 0s 1ms/step - loss: 0.1220 - accuracy: 0.9579\n",
            "Epoch 97/200\n",
            "28/28 [==============================] - 0s 1ms/step - loss: 0.1171 - accuracy: 0.9578\n",
            "Epoch 98/200\n",
            "28/28 [==============================] - 0s 1ms/step - loss: 0.1676 - accuracy: 0.9289\n",
            "Epoch 99/200\n",
            "28/28 [==============================] - 0s 2ms/step - loss: 0.1507 - accuracy: 0.9229\n",
            "Epoch 100/200\n",
            "28/28 [==============================] - 0s 2ms/step - loss: 0.1070 - accuracy: 0.9620\n",
            "Epoch 101/200\n",
            "28/28 [==============================] - 0s 2ms/step - loss: 0.1094 - accuracy: 0.9711\n",
            "Epoch 102/200\n",
            "28/28 [==============================] - 0s 1ms/step - loss: 0.1780 - accuracy: 0.9214\n",
            "Epoch 103/200\n",
            "28/28 [==============================] - 0s 1ms/step - loss: 0.1121 - accuracy: 0.9670\n",
            "Epoch 104/200\n",
            "28/28 [==============================] - 0s 2ms/step - loss: 0.1158 - accuracy: 0.9663\n",
            "Epoch 105/200\n",
            "28/28 [==============================] - 0s 2ms/step - loss: 0.1601 - accuracy: 0.9329\n",
            "Epoch 106/200\n",
            "28/28 [==============================] - 0s 2ms/step - loss: 0.1299 - accuracy: 0.9614\n",
            "Epoch 107/200\n",
            "28/28 [==============================] - 0s 2ms/step - loss: 0.1159 - accuracy: 0.9598\n",
            "Epoch 108/200\n",
            "28/28 [==============================] - 0s 2ms/step - loss: 0.1235 - accuracy: 0.9365\n",
            "Epoch 109/200\n",
            "28/28 [==============================] - 0s 2ms/step - loss: 0.0997 - accuracy: 0.9682\n",
            "Epoch 110/200\n",
            "28/28 [==============================] - 0s 1ms/step - loss: 0.0941 - accuracy: 0.9804\n",
            "Epoch 111/200\n",
            "28/28 [==============================] - 0s 2ms/step - loss: 0.1069 - accuracy: 0.9746\n",
            "Epoch 112/200\n",
            "28/28 [==============================] - 0s 2ms/step - loss: 0.1177 - accuracy: 0.9509\n",
            "Epoch 113/200\n",
            "28/28 [==============================] - 0s 2ms/step - loss: 0.1268 - accuracy: 0.9376\n",
            "Epoch 114/200\n",
            "28/28 [==============================] - 0s 1ms/step - loss: 0.1150 - accuracy: 0.9487\n",
            "Epoch 115/200\n",
            "28/28 [==============================] - 0s 1ms/step - loss: 0.1285 - accuracy: 0.9559\n",
            "Epoch 116/200\n",
            "28/28 [==============================] - 0s 1ms/step - loss: 0.1477 - accuracy: 0.9429\n",
            "Epoch 117/200\n",
            "28/28 [==============================] - 0s 1ms/step - loss: 0.0908 - accuracy: 0.9696\n",
            "Epoch 118/200\n",
            "28/28 [==============================] - 0s 2ms/step - loss: 0.0831 - accuracy: 0.9768\n",
            "Epoch 119/200\n",
            "28/28 [==============================] - 0s 2ms/step - loss: 0.1708 - accuracy: 0.9206\n",
            "Epoch 120/200\n",
            "28/28 [==============================] - 0s 2ms/step - loss: 0.1208 - accuracy: 0.9129\n",
            "Epoch 121/200\n",
            "28/28 [==============================] - 0s 2ms/step - loss: 0.0867 - accuracy: 0.9547\n",
            "Epoch 122/200\n",
            "28/28 [==============================] - 0s 2ms/step - loss: 0.1015 - accuracy: 0.9532\n",
            "Epoch 123/200\n",
            "28/28 [==============================] - 0s 2ms/step - loss: 0.1091 - accuracy: 0.9410\n",
            "Epoch 124/200\n",
            "28/28 [==============================] - 0s 2ms/step - loss: 0.1026 - accuracy: 0.9577\n",
            "Epoch 125/200\n",
            "28/28 [==============================] - 0s 1ms/step - loss: 0.0948 - accuracy: 0.9660\n",
            "Epoch 126/200\n",
            "28/28 [==============================] - 0s 2ms/step - loss: 0.0836 - accuracy: 0.9597\n",
            "Epoch 127/200\n",
            "28/28 [==============================] - 0s 3ms/step - loss: 0.1046 - accuracy: 0.9502\n",
            "Epoch 128/200\n",
            "28/28 [==============================] - 0s 2ms/step - loss: 0.1466 - accuracy: 0.9268\n",
            "Epoch 129/200\n",
            "28/28 [==============================] - 0s 2ms/step - loss: 0.0763 - accuracy: 0.9665\n",
            "Epoch 130/200\n",
            "28/28 [==============================] - 0s 2ms/step - loss: 0.0696 - accuracy: 0.9758\n",
            "Epoch 131/200\n",
            "28/28 [==============================] - 0s 2ms/step - loss: 0.1068 - accuracy: 0.9390\n",
            "Epoch 132/200\n",
            "28/28 [==============================] - 0s 2ms/step - loss: 0.0702 - accuracy: 0.9749\n",
            "Epoch 133/200\n",
            "28/28 [==============================] - 0s 1ms/step - loss: 0.0883 - accuracy: 0.9573\n",
            "Epoch 134/200\n",
            "28/28 [==============================] - 0s 1ms/step - loss: 0.0765 - accuracy: 0.9774\n",
            "Epoch 135/200\n",
            "28/28 [==============================] - 0s 2ms/step - loss: 0.0824 - accuracy: 0.9750\n",
            "Epoch 136/200\n",
            "28/28 [==============================] - 0s 2ms/step - loss: 0.0702 - accuracy: 0.9806\n",
            "Epoch 137/200\n",
            "28/28 [==============================] - 0s 2ms/step - loss: 0.0909 - accuracy: 0.9462\n",
            "Epoch 138/200\n",
            "28/28 [==============================] - 0s 2ms/step - loss: 0.0593 - accuracy: 0.9750\n",
            "Epoch 139/200\n",
            "28/28 [==============================] - 0s 2ms/step - loss: 0.0811 - accuracy: 0.9636\n",
            "Epoch 140/200\n",
            "28/28 [==============================] - 0s 2ms/step - loss: 0.1294 - accuracy: 0.9400\n",
            "Epoch 141/200\n",
            "28/28 [==============================] - 0s 1ms/step - loss: 0.0609 - accuracy: 0.9862\n",
            "Epoch 142/200\n",
            "28/28 [==============================] - 0s 2ms/step - loss: 0.0835 - accuracy: 0.9739\n",
            "Epoch 143/200\n",
            "28/28 [==============================] - 0s 2ms/step - loss: 0.0652 - accuracy: 0.9675\n",
            "Epoch 144/200\n",
            "28/28 [==============================] - 0s 2ms/step - loss: 0.0904 - accuracy: 0.9688\n",
            "Epoch 145/200\n",
            "28/28 [==============================] - 0s 2ms/step - loss: 0.0661 - accuracy: 0.9800\n",
            "Epoch 146/200\n",
            "28/28 [==============================] - 0s 2ms/step - loss: 0.0706 - accuracy: 0.9555\n",
            "Epoch 147/200\n",
            "28/28 [==============================] - 0s 2ms/step - loss: 0.0571 - accuracy: 0.9853\n",
            "Epoch 148/200\n",
            "28/28 [==============================] - 0s 2ms/step - loss: 0.0741 - accuracy: 0.9731\n",
            "Epoch 149/200\n",
            "28/28 [==============================] - 0s 2ms/step - loss: 0.0674 - accuracy: 0.9760\n",
            "Epoch 150/200\n",
            "28/28 [==============================] - 0s 2ms/step - loss: 0.0830 - accuracy: 0.9623\n",
            "Epoch 151/200\n",
            "28/28 [==============================] - 0s 2ms/step - loss: 0.1009 - accuracy: 0.9610\n",
            "Epoch 152/200\n",
            "28/28 [==============================] - 0s 2ms/step - loss: 0.0772 - accuracy: 0.9680\n",
            "Epoch 153/200\n",
            "28/28 [==============================] - 0s 2ms/step - loss: 0.0720 - accuracy: 0.9651\n",
            "Epoch 154/200\n",
            "28/28 [==============================] - 0s 2ms/step - loss: 0.0531 - accuracy: 0.9886\n",
            "Epoch 155/200\n",
            "28/28 [==============================] - 0s 2ms/step - loss: 0.0692 - accuracy: 0.9748\n",
            "Epoch 156/200\n",
            "28/28 [==============================] - 0s 2ms/step - loss: 0.0508 - accuracy: 0.9889\n",
            "Epoch 157/200\n",
            "28/28 [==============================] - 0s 2ms/step - loss: 0.0516 - accuracy: 0.9917\n",
            "Epoch 158/200\n",
            "28/28 [==============================] - 0s 2ms/step - loss: 0.0629 - accuracy: 0.9709\n",
            "Epoch 159/200\n",
            "28/28 [==============================] - 0s 2ms/step - loss: 0.0893 - accuracy: 0.9500\n",
            "Epoch 160/200\n",
            "28/28 [==============================] - 0s 2ms/step - loss: 0.0520 - accuracy: 0.9736\n",
            "Epoch 161/200\n",
            "28/28 [==============================] - 0s 2ms/step - loss: 0.0483 - accuracy: 0.9850\n",
            "Epoch 162/200\n",
            "28/28 [==============================] - 0s 2ms/step - loss: 0.0631 - accuracy: 0.9703\n",
            "Epoch 163/200\n",
            "28/28 [==============================] - 0s 2ms/step - loss: 0.0528 - accuracy: 0.9626\n",
            "Epoch 164/200\n",
            "28/28 [==============================] - 0s 2ms/step - loss: 0.0700 - accuracy: 0.9616\n",
            "Epoch 165/200\n",
            "28/28 [==============================] - 0s 2ms/step - loss: 0.1259 - accuracy: 0.9440\n",
            "Epoch 166/200\n",
            "28/28 [==============================] - 0s 2ms/step - loss: 0.0553 - accuracy: 0.9758\n",
            "Epoch 167/200\n",
            "28/28 [==============================] - 0s 2ms/step - loss: 0.0939 - accuracy: 0.9509\n",
            "Epoch 168/200\n",
            "28/28 [==============================] - 0s 2ms/step - loss: 0.0511 - accuracy: 0.9838\n",
            "Epoch 169/200\n",
            "28/28 [==============================] - 0s 3ms/step - loss: 0.0689 - accuracy: 0.9778\n",
            "Epoch 170/200\n",
            "28/28 [==============================] - 0s 2ms/step - loss: 0.0576 - accuracy: 0.9794\n",
            "Epoch 171/200\n",
            "28/28 [==============================] - 0s 2ms/step - loss: 0.0559 - accuracy: 0.9790\n",
            "Epoch 172/200\n",
            "28/28 [==============================] - 0s 2ms/step - loss: 0.0765 - accuracy: 0.9623\n",
            "Epoch 173/200\n",
            "28/28 [==============================] - 0s 2ms/step - loss: 0.0449 - accuracy: 0.9864\n",
            "Epoch 174/200\n",
            "28/28 [==============================] - 0s 2ms/step - loss: 0.0308 - accuracy: 0.9928\n",
            "Epoch 175/200\n",
            "28/28 [==============================] - 0s 2ms/step - loss: 0.0544 - accuracy: 0.9770\n",
            "Epoch 176/200\n",
            "28/28 [==============================] - 0s 2ms/step - loss: 0.0419 - accuracy: 0.9921\n",
            "Epoch 177/200\n",
            "28/28 [==============================] - 0s 2ms/step - loss: 0.0356 - accuracy: 0.9881\n",
            "Epoch 178/200\n",
            "28/28 [==============================] - 0s 2ms/step - loss: 0.0400 - accuracy: 0.9846\n",
            "Epoch 179/200\n",
            "28/28 [==============================] - 0s 2ms/step - loss: 0.0378 - accuracy: 0.9843\n",
            "Epoch 180/200\n",
            "28/28 [==============================] - 0s 2ms/step - loss: 0.0642 - accuracy: 0.9760\n",
            "Epoch 181/200\n",
            "28/28 [==============================] - 0s 2ms/step - loss: 0.0385 - accuracy: 0.9924\n",
            "Epoch 182/200\n",
            "28/28 [==============================] - 0s 2ms/step - loss: 0.0453 - accuracy: 0.9877\n",
            "Epoch 183/200\n",
            "28/28 [==============================] - 0s 2ms/step - loss: 0.0575 - accuracy: 0.9733\n",
            "Epoch 184/200\n",
            "28/28 [==============================] - 0s 2ms/step - loss: 0.0447 - accuracy: 0.9835\n",
            "Epoch 185/200\n",
            "28/28 [==============================] - 0s 1ms/step - loss: 0.0579 - accuracy: 0.9633\n",
            "Epoch 186/200\n",
            "28/28 [==============================] - 0s 1ms/step - loss: 0.0372 - accuracy: 0.9920\n",
            "Epoch 187/200\n",
            "28/28 [==============================] - 0s 2ms/step - loss: 0.0458 - accuracy: 0.9840\n",
            "Epoch 188/200\n",
            "28/28 [==============================] - 0s 2ms/step - loss: 0.0378 - accuracy: 0.9951\n",
            "Epoch 189/200\n",
            "28/28 [==============================] - 0s 2ms/step - loss: 0.0280 - accuracy: 0.9914\n",
            "Epoch 190/200\n",
            "28/28 [==============================] - 0s 1ms/step - loss: 0.0439 - accuracy: 0.9828\n",
            "Epoch 191/200\n",
            "28/28 [==============================] - 0s 2ms/step - loss: 0.0380 - accuracy: 0.9843\n",
            "Epoch 192/200\n",
            "28/28 [==============================] - 0s 2ms/step - loss: 0.0457 - accuracy: 0.9880\n",
            "Epoch 193/200\n",
            "28/28 [==============================] - 0s 2ms/step - loss: 0.0469 - accuracy: 0.9661\n",
            "Epoch 194/200\n",
            "28/28 [==============================] - 0s 1ms/step - loss: 0.0449 - accuracy: 0.9855\n",
            "Epoch 195/200\n",
            "28/28 [==============================] - 0s 2ms/step - loss: 0.0298 - accuracy: 0.9922\n",
            "Epoch 196/200\n",
            "28/28 [==============================] - 0s 2ms/step - loss: 0.0311 - accuracy: 0.9859\n",
            "Epoch 197/200\n",
            "28/28 [==============================] - 0s 2ms/step - loss: 0.0522 - accuracy: 0.9758\n",
            "Epoch 198/200\n",
            "28/28 [==============================] - 0s 2ms/step - loss: 0.0277 - accuracy: 0.9933\n",
            "Epoch 199/200\n",
            "28/28 [==============================] - 0s 2ms/step - loss: 0.0405 - accuracy: 0.9892\n",
            "Epoch 200/200\n",
            "28/28 [==============================] - 0s 2ms/step - loss: 0.0513 - accuracy: 0.9689\n"
          ],
          "name": "stdout"
        },
        {
          "output_type": "execute_result",
          "data": {
            "text/plain": [
              "<keras.callbacks.History at 0x7fd7bdc9c950>"
            ]
          },
          "metadata": {
            "tags": []
          },
          "execution_count": 53
        }
      ]
    },
    {
      "cell_type": "code",
      "metadata": {
        "colab": {
          "base_uri": "https://localhost:8080/"
        },
        "id": "nExs5dMszVle",
        "outputId": "9aae1c50-812e-49a2-b0b9-ef4f1e75f759"
      },
      "source": [
        "model.evaluate(X_test,y_test)"
      ],
      "execution_count": 54,
      "outputs": [
        {
          "output_type": "stream",
          "text": [
            "3/3 [==============================] - 0s 4ms/step - loss: 1.1590 - accuracy: 0.8133\n"
          ],
          "name": "stdout"
        },
        {
          "output_type": "execute_result",
          "data": {
            "text/plain": [
              "[1.1589577198028564, 0.8133333325386047]"
            ]
          },
          "metadata": {
            "tags": []
          },
          "execution_count": 54
        }
      ]
    },
    {
      "cell_type": "code",
      "metadata": {
        "colab": {
          "base_uri": "https://localhost:8080/"
        },
        "id": "YrBpbJ6CziG0",
        "outputId": "918ba2ec-a1ec-438b-c2a4-a9b1b541fe18"
      },
      "source": [
        "model.evaluate(X_train,y_train)"
      ],
      "execution_count": 55,
      "outputs": [
        {
          "output_type": "stream",
          "text": [
            "7/7 [==============================] - 0s 3ms/step - loss: 0.0390 - accuracy: 0.9821\n"
          ],
          "name": "stdout"
        },
        {
          "output_type": "execute_result",
          "data": {
            "text/plain": [
              "[0.0389789454638958, 0.9821428656578064]"
            ]
          },
          "metadata": {
            "tags": []
          },
          "execution_count": 55
        }
      ]
    },
    {
      "cell_type": "markdown",
      "metadata": {
        "id": "stdHamREz4T8"
      },
      "source": [
        "Training_accuracy>>Test_Accuracy"
      ]
    },
    {
      "cell_type": "code",
      "metadata": {
        "colab": {
          "base_uri": "https://localhost:8080/"
        },
        "id": "VZU9_wNS0BKO",
        "outputId": "2388be81-89bc-41f3-ccb9-49c7e6155b34"
      },
      "source": [
        "y_pred = model.predict(X_test).reshape(-1)\n",
        "y_pred = np.round(y_pred)\n",
        "print(y_pred)"
      ],
      "execution_count": 56,
      "outputs": [
        {
          "output_type": "stream",
          "text": [
            "[0. 0. 0. 0. 0. 0. 0. 0. 1. 0. 1. 1. 1. 0. 0. 1. 0. 0. 0. 0. 0. 1. 0. 0.\n",
            " 0. 0. 0. 0. 0. 0. 0. 0. 0. 0. 1. 1. 0. 0. 0. 0. 1. 0. 0. 1. 0. 1. 0. 0.\n",
            " 0. 0. 0. 0. 0. 1. 0. 0. 0. 0. 0. 0. 0. 0. 0. 0. 1. 0. 1. 1. 0. 1. 0. 0.\n",
            " 1. 1. 0.]\n"
          ],
          "name": "stdout"
        }
      ]
    },
    {
      "cell_type": "code",
      "metadata": {
        "colab": {
          "base_uri": "https://localhost:8080/"
        },
        "id": "51m83rfnzn22",
        "outputId": "db1ced71-073b-4b3a-960e-7c63f4ee96dc"
      },
      "source": [
        "from sklearn.metrics import confusion_matrix , classification_report\n",
        "print(classification_report(y_test, y_pred))"
      ],
      "execution_count": 57,
      "outputs": [
        {
          "output_type": "stream",
          "text": [
            "              precision    recall  f1-score   support\n",
            "\n",
            "           0       0.86      0.89      0.88        55\n",
            "           1       0.67      0.60      0.63        20\n",
            "\n",
            "    accuracy                           0.81        75\n",
            "   macro avg       0.76      0.75      0.75        75\n",
            "weighted avg       0.81      0.81      0.81        75\n",
            "\n"
          ],
          "name": "stdout"
        }
      ]
    },
    {
      "cell_type": "markdown",
      "metadata": {
        "id": "uIGLjj410dlW"
      },
      "source": [
        "Model with droupout layer"
      ]
    },
    {
      "cell_type": "code",
      "metadata": {
        "colab": {
          "base_uri": "https://localhost:8080/"
        },
        "id": "CSEedj1sz_8i",
        "outputId": "bf8f9d2b-85c3-48f6-c651-bd8e341fa5ed"
      },
      "source": [
        "modeld = keras.Sequential([\n",
        "    keras.layers.Dense(60, input_dim=12, activation='relu'),\n",
        "    keras.layers.Dropout(0.5),\n",
        "    keras.layers.Dense(30, activation='relu'),\n",
        "    keras.layers.Dropout(0.5),\n",
        "    keras.layers.Dense(15, activation='relu'),\n",
        "    keras.layers.Dropout(0.5),\n",
        "    keras.layers.Dense(1, activation='sigmoid')\n",
        "])\n",
        "\n",
        "modeld.compile(loss='binary_crossentropy', optimizer='adam', metrics=['accuracy'])\n",
        "\n",
        "modeld.fit(X_train, y_train, epochs=200, batch_size=8)"
      ],
      "execution_count": 58,
      "outputs": [
        {
          "output_type": "stream",
          "text": [
            "Epoch 1/200\n",
            "28/28 [==============================] - 1s 2ms/step - loss: 0.7097 - accuracy: 0.5603\n",
            "Epoch 2/200\n",
            "28/28 [==============================] - 0s 2ms/step - loss: 0.6700 - accuracy: 0.5730\n",
            "Epoch 3/200\n",
            "28/28 [==============================] - 0s 2ms/step - loss: 0.6459 - accuracy: 0.6416\n",
            "Epoch 4/200\n",
            "28/28 [==============================] - 0s 2ms/step - loss: 0.6517 - accuracy: 0.6545\n",
            "Epoch 5/200\n",
            "28/28 [==============================] - 0s 2ms/step - loss: 0.6197 - accuracy: 0.6812\n",
            "Epoch 6/200\n",
            "28/28 [==============================] - 0s 2ms/step - loss: 0.6579 - accuracy: 0.6238\n",
            "Epoch 7/200\n",
            "28/28 [==============================] - 0s 2ms/step - loss: 0.6093 - accuracy: 0.6435\n",
            "Epoch 8/200\n",
            "28/28 [==============================] - 0s 3ms/step - loss: 0.6483 - accuracy: 0.7006\n",
            "Epoch 9/200\n",
            "28/28 [==============================] - 0s 2ms/step - loss: 0.5851 - accuracy: 0.6908\n",
            "Epoch 10/200\n",
            "28/28 [==============================] - 0s 2ms/step - loss: 0.7153 - accuracy: 0.5502\n",
            "Epoch 11/200\n",
            "28/28 [==============================] - 0s 2ms/step - loss: 0.6526 - accuracy: 0.6300\n",
            "Epoch 12/200\n",
            "28/28 [==============================] - 0s 2ms/step - loss: 0.6255 - accuracy: 0.6776\n",
            "Epoch 13/200\n",
            "28/28 [==============================] - 0s 2ms/step - loss: 0.5957 - accuracy: 0.6798\n",
            "Epoch 14/200\n",
            "28/28 [==============================] - 0s 2ms/step - loss: 0.6015 - accuracy: 0.6956\n",
            "Epoch 15/200\n",
            "28/28 [==============================] - 0s 2ms/step - loss: 0.5973 - accuracy: 0.7155\n",
            "Epoch 16/200\n",
            "28/28 [==============================] - 0s 2ms/step - loss: 0.6410 - accuracy: 0.5934\n",
            "Epoch 17/200\n",
            "28/28 [==============================] - 0s 2ms/step - loss: 0.6015 - accuracy: 0.6653\n",
            "Epoch 18/200\n",
            "28/28 [==============================] - 0s 2ms/step - loss: 0.5666 - accuracy: 0.6555\n",
            "Epoch 19/200\n",
            "28/28 [==============================] - 0s 1ms/step - loss: 0.5742 - accuracy: 0.6739\n",
            "Epoch 20/200\n",
            "28/28 [==============================] - 0s 2ms/step - loss: 0.6111 - accuracy: 0.6290\n",
            "Epoch 21/200\n",
            "28/28 [==============================] - 0s 1ms/step - loss: 0.5839 - accuracy: 0.6460\n",
            "Epoch 22/200\n",
            "28/28 [==============================] - 0s 1ms/step - loss: 0.6148 - accuracy: 0.6134\n",
            "Epoch 23/200\n",
            "28/28 [==============================] - 0s 1ms/step - loss: 0.4893 - accuracy: 0.7105\n",
            "Epoch 24/200\n",
            "28/28 [==============================] - 0s 2ms/step - loss: 0.6091 - accuracy: 0.6915\n",
            "Epoch 25/200\n",
            "28/28 [==============================] - 0s 2ms/step - loss: 0.5739 - accuracy: 0.6528\n",
            "Epoch 26/200\n",
            "28/28 [==============================] - 0s 2ms/step - loss: 0.6023 - accuracy: 0.6657\n",
            "Epoch 27/200\n",
            "28/28 [==============================] - 0s 2ms/step - loss: 0.5498 - accuracy: 0.6954\n",
            "Epoch 28/200\n",
            "28/28 [==============================] - 0s 2ms/step - loss: 0.5403 - accuracy: 0.6775\n",
            "Epoch 29/200\n",
            "28/28 [==============================] - 0s 2ms/step - loss: 0.5533 - accuracy: 0.6641\n",
            "Epoch 30/200\n",
            "28/28 [==============================] - 0s 1ms/step - loss: 0.5423 - accuracy: 0.7179\n",
            "Epoch 31/200\n",
            "28/28 [==============================] - 0s 2ms/step - loss: 0.5512 - accuracy: 0.7165\n",
            "Epoch 32/200\n",
            "28/28 [==============================] - 0s 2ms/step - loss: 0.5986 - accuracy: 0.6301\n",
            "Epoch 33/200\n",
            "28/28 [==============================] - 0s 2ms/step - loss: 0.5916 - accuracy: 0.7007\n",
            "Epoch 34/200\n",
            "28/28 [==============================] - 0s 2ms/step - loss: 0.5137 - accuracy: 0.7355\n",
            "Epoch 35/200\n",
            "28/28 [==============================] - 0s 2ms/step - loss: 0.5318 - accuracy: 0.7211\n",
            "Epoch 36/200\n",
            "28/28 [==============================] - 0s 2ms/step - loss: 0.5494 - accuracy: 0.7044\n",
            "Epoch 37/200\n",
            "28/28 [==============================] - 0s 2ms/step - loss: 0.5284 - accuracy: 0.7569\n",
            "Epoch 38/200\n",
            "28/28 [==============================] - 0s 2ms/step - loss: 0.5330 - accuracy: 0.7800\n",
            "Epoch 39/200\n",
            "28/28 [==============================] - 0s 2ms/step - loss: 0.5367 - accuracy: 0.7840\n",
            "Epoch 40/200\n",
            "28/28 [==============================] - 0s 2ms/step - loss: 0.5177 - accuracy: 0.6803\n",
            "Epoch 41/200\n",
            "28/28 [==============================] - 0s 2ms/step - loss: 0.5420 - accuracy: 0.7392\n",
            "Epoch 42/200\n",
            "28/28 [==============================] - 0s 2ms/step - loss: 0.4739 - accuracy: 0.7057\n",
            "Epoch 43/200\n",
            "28/28 [==============================] - 0s 2ms/step - loss: 0.4684 - accuracy: 0.7706\n",
            "Epoch 44/200\n",
            "28/28 [==============================] - 0s 3ms/step - loss: 0.5110 - accuracy: 0.7349\n",
            "Epoch 45/200\n",
            "28/28 [==============================] - 0s 2ms/step - loss: 0.5124 - accuracy: 0.7481\n",
            "Epoch 46/200\n",
            "28/28 [==============================] - 0s 2ms/step - loss: 0.5030 - accuracy: 0.7975\n",
            "Epoch 47/200\n",
            "28/28 [==============================] - 0s 2ms/step - loss: 0.4973 - accuracy: 0.8089\n",
            "Epoch 48/200\n",
            "28/28 [==============================] - 0s 2ms/step - loss: 0.5073 - accuracy: 0.7840\n",
            "Epoch 49/200\n",
            "28/28 [==============================] - 0s 2ms/step - loss: 0.4938 - accuracy: 0.8053\n",
            "Epoch 50/200\n",
            "28/28 [==============================] - 0s 1ms/step - loss: 0.4407 - accuracy: 0.8340\n",
            "Epoch 51/200\n",
            "28/28 [==============================] - 0s 2ms/step - loss: 0.4685 - accuracy: 0.7837\n",
            "Epoch 52/200\n",
            "28/28 [==============================] - 0s 2ms/step - loss: 0.4412 - accuracy: 0.7945\n",
            "Epoch 53/200\n",
            "28/28 [==============================] - 0s 2ms/step - loss: 0.4664 - accuracy: 0.8097\n",
            "Epoch 54/200\n",
            "28/28 [==============================] - 0s 2ms/step - loss: 0.4588 - accuracy: 0.7815\n",
            "Epoch 55/200\n",
            "28/28 [==============================] - 0s 2ms/step - loss: 0.4168 - accuracy: 0.7959\n",
            "Epoch 56/200\n",
            "28/28 [==============================] - 0s 2ms/step - loss: 0.4013 - accuracy: 0.8268\n",
            "Epoch 57/200\n",
            "28/28 [==============================] - 0s 2ms/step - loss: 0.4240 - accuracy: 0.8368\n",
            "Epoch 58/200\n",
            "28/28 [==============================] - 0s 2ms/step - loss: 0.5335 - accuracy: 0.8367\n",
            "Epoch 59/200\n",
            "28/28 [==============================] - 0s 2ms/step - loss: 0.4162 - accuracy: 0.8354\n",
            "Epoch 60/200\n",
            "28/28 [==============================] - 0s 1ms/step - loss: 0.4900 - accuracy: 0.7190\n",
            "Epoch 61/200\n",
            "28/28 [==============================] - 0s 2ms/step - loss: 0.4325 - accuracy: 0.7988\n",
            "Epoch 62/200\n",
            "28/28 [==============================] - 0s 3ms/step - loss: 0.4830 - accuracy: 0.8055\n",
            "Epoch 63/200\n",
            "28/28 [==============================] - 0s 2ms/step - loss: 0.5181 - accuracy: 0.7519\n",
            "Epoch 64/200\n",
            "28/28 [==============================] - 0s 2ms/step - loss: 0.5159 - accuracy: 0.7769\n",
            "Epoch 65/200\n",
            "28/28 [==============================] - 0s 2ms/step - loss: 0.5247 - accuracy: 0.8093\n",
            "Epoch 66/200\n",
            "28/28 [==============================] - 0s 2ms/step - loss: 0.4486 - accuracy: 0.8169\n",
            "Epoch 67/200\n",
            "28/28 [==============================] - 0s 1ms/step - loss: 0.4608 - accuracy: 0.8787\n",
            "Epoch 68/200\n",
            "28/28 [==============================] - 0s 2ms/step - loss: 0.4714 - accuracy: 0.8364\n",
            "Epoch 69/200\n",
            "28/28 [==============================] - 0s 2ms/step - loss: 0.4304 - accuracy: 0.8043\n",
            "Epoch 70/200\n",
            "28/28 [==============================] - 0s 1ms/step - loss: 0.3974 - accuracy: 0.7945\n",
            "Epoch 71/200\n",
            "28/28 [==============================] - 0s 2ms/step - loss: 0.4013 - accuracy: 0.8307\n",
            "Epoch 72/200\n",
            "28/28 [==============================] - 0s 2ms/step - loss: 0.4010 - accuracy: 0.8033\n",
            "Epoch 73/200\n",
            "28/28 [==============================] - 0s 1ms/step - loss: 0.4369 - accuracy: 0.8104\n",
            "Epoch 74/200\n",
            "28/28 [==============================] - 0s 2ms/step - loss: 0.3792 - accuracy: 0.8421\n",
            "Epoch 75/200\n",
            "28/28 [==============================] - 0s 2ms/step - loss: 0.4657 - accuracy: 0.8015\n",
            "Epoch 76/200\n",
            "28/28 [==============================] - 0s 2ms/step - loss: 0.4378 - accuracy: 0.8581\n",
            "Epoch 77/200\n",
            "28/28 [==============================] - 0s 2ms/step - loss: 0.4679 - accuracy: 0.7990\n",
            "Epoch 78/200\n",
            "28/28 [==============================] - 0s 2ms/step - loss: 0.4438 - accuracy: 0.8135\n",
            "Epoch 79/200\n",
            "28/28 [==============================] - 0s 1ms/step - loss: 0.4413 - accuracy: 0.8304\n",
            "Epoch 80/200\n",
            "28/28 [==============================] - 0s 2ms/step - loss: 0.4282 - accuracy: 0.7642\n",
            "Epoch 81/200\n",
            "28/28 [==============================] - 0s 2ms/step - loss: 0.3752 - accuracy: 0.8170\n",
            "Epoch 82/200\n",
            "28/28 [==============================] - 0s 2ms/step - loss: 0.3772 - accuracy: 0.8014\n",
            "Epoch 83/200\n",
            "28/28 [==============================] - 0s 2ms/step - loss: 0.3601 - accuracy: 0.8710\n",
            "Epoch 84/200\n",
            "28/28 [==============================] - 0s 2ms/step - loss: 0.3667 - accuracy: 0.8502\n",
            "Epoch 85/200\n",
            "28/28 [==============================] - 0s 2ms/step - loss: 0.4492 - accuracy: 0.8564\n",
            "Epoch 86/200\n",
            "28/28 [==============================] - 0s 2ms/step - loss: 0.4213 - accuracy: 0.8481\n",
            "Epoch 87/200\n",
            "28/28 [==============================] - 0s 2ms/step - loss: 0.4390 - accuracy: 0.8426\n",
            "Epoch 88/200\n",
            "28/28 [==============================] - 0s 2ms/step - loss: 0.4338 - accuracy: 0.8290\n",
            "Epoch 89/200\n",
            "28/28 [==============================] - 0s 2ms/step - loss: 0.3907 - accuracy: 0.7996\n",
            "Epoch 90/200\n",
            "28/28 [==============================] - 0s 2ms/step - loss: 0.4274 - accuracy: 0.8019\n",
            "Epoch 91/200\n",
            "28/28 [==============================] - 0s 2ms/step - loss: 0.4434 - accuracy: 0.8314\n",
            "Epoch 92/200\n",
            "28/28 [==============================] - 0s 2ms/step - loss: 0.4398 - accuracy: 0.8191\n",
            "Epoch 93/200\n",
            "28/28 [==============================] - 0s 2ms/step - loss: 0.3523 - accuracy: 0.8761\n",
            "Epoch 94/200\n",
            "28/28 [==============================] - 0s 2ms/step - loss: 0.3890 - accuracy: 0.8025\n",
            "Epoch 95/200\n",
            "28/28 [==============================] - 0s 2ms/step - loss: 0.5097 - accuracy: 0.8321\n",
            "Epoch 96/200\n",
            "28/28 [==============================] - 0s 1ms/step - loss: 0.3854 - accuracy: 0.8340\n",
            "Epoch 97/200\n",
            "28/28 [==============================] - 0s 2ms/step - loss: 0.3374 - accuracy: 0.8912\n",
            "Epoch 98/200\n",
            "28/28 [==============================] - 0s 2ms/step - loss: 0.3538 - accuracy: 0.8583\n",
            "Epoch 99/200\n",
            "28/28 [==============================] - 0s 2ms/step - loss: 0.3413 - accuracy: 0.8607\n",
            "Epoch 100/200\n",
            "28/28 [==============================] - 0s 2ms/step - loss: 0.4130 - accuracy: 0.8099\n",
            "Epoch 101/200\n",
            "28/28 [==============================] - 0s 2ms/step - loss: 0.4142 - accuracy: 0.8128\n",
            "Epoch 102/200\n",
            "28/28 [==============================] - 0s 2ms/step - loss: 0.3997 - accuracy: 0.8528\n",
            "Epoch 103/200\n",
            "28/28 [==============================] - 0s 2ms/step - loss: 0.3671 - accuracy: 0.8736\n",
            "Epoch 104/200\n",
            "28/28 [==============================] - 0s 2ms/step - loss: 0.3229 - accuracy: 0.8615\n",
            "Epoch 105/200\n",
            "28/28 [==============================] - 0s 2ms/step - loss: 0.3942 - accuracy: 0.8366\n",
            "Epoch 106/200\n",
            "28/28 [==============================] - 0s 2ms/step - loss: 0.4792 - accuracy: 0.8017\n",
            "Epoch 107/200\n",
            "28/28 [==============================] - 0s 2ms/step - loss: 0.3392 - accuracy: 0.8826\n",
            "Epoch 108/200\n",
            "28/28 [==============================] - 0s 2ms/step - loss: 0.3473 - accuracy: 0.8526\n",
            "Epoch 109/200\n",
            "28/28 [==============================] - 0s 2ms/step - loss: 0.4447 - accuracy: 0.7811\n",
            "Epoch 110/200\n",
            "28/28 [==============================] - 0s 2ms/step - loss: 0.3360 - accuracy: 0.8690\n",
            "Epoch 111/200\n",
            "28/28 [==============================] - 0s 2ms/step - loss: 0.3773 - accuracy: 0.8348\n",
            "Epoch 112/200\n",
            "28/28 [==============================] - 0s 2ms/step - loss: 0.3220 - accuracy: 0.8921\n",
            "Epoch 113/200\n",
            "28/28 [==============================] - 0s 2ms/step - loss: 0.2444 - accuracy: 0.9136\n",
            "Epoch 114/200\n",
            "28/28 [==============================] - 0s 2ms/step - loss: 0.4424 - accuracy: 0.8350\n",
            "Epoch 115/200\n",
            "28/28 [==============================] - 0s 2ms/step - loss: 0.3768 - accuracy: 0.8556\n",
            "Epoch 116/200\n",
            "28/28 [==============================] - 0s 2ms/step - loss: 0.3432 - accuracy: 0.8450\n",
            "Epoch 117/200\n",
            "28/28 [==============================] - 0s 2ms/step - loss: 0.3829 - accuracy: 0.8414\n",
            "Epoch 118/200\n",
            "28/28 [==============================] - 0s 2ms/step - loss: 0.3311 - accuracy: 0.8670\n",
            "Epoch 119/200\n",
            "28/28 [==============================] - 0s 2ms/step - loss: 0.3448 - accuracy: 0.8436\n",
            "Epoch 120/200\n",
            "28/28 [==============================] - 0s 2ms/step - loss: 0.3822 - accuracy: 0.8886\n",
            "Epoch 121/200\n",
            "28/28 [==============================] - 0s 2ms/step - loss: 0.3562 - accuracy: 0.7806\n",
            "Epoch 122/200\n",
            "28/28 [==============================] - 0s 1ms/step - loss: 0.4020 - accuracy: 0.8305\n",
            "Epoch 123/200\n",
            "28/28 [==============================] - 0s 2ms/step - loss: 0.3762 - accuracy: 0.8407\n",
            "Epoch 124/200\n",
            "28/28 [==============================] - 0s 2ms/step - loss: 0.3293 - accuracy: 0.8876\n",
            "Epoch 125/200\n",
            "28/28 [==============================] - 0s 2ms/step - loss: 0.3116 - accuracy: 0.8963\n",
            "Epoch 126/200\n",
            "28/28 [==============================] - 0s 2ms/step - loss: 0.3414 - accuracy: 0.8577\n",
            "Epoch 127/200\n",
            "28/28 [==============================] - 0s 2ms/step - loss: 0.3481 - accuracy: 0.8420\n",
            "Epoch 128/200\n",
            "28/28 [==============================] - 0s 2ms/step - loss: 0.2831 - accuracy: 0.9019\n",
            "Epoch 129/200\n",
            "28/28 [==============================] - 0s 2ms/step - loss: 0.3748 - accuracy: 0.8297\n",
            "Epoch 130/200\n",
            "28/28 [==============================] - 0s 2ms/step - loss: 0.4163 - accuracy: 0.8444\n",
            "Epoch 131/200\n",
            "28/28 [==============================] - 0s 2ms/step - loss: 0.3315 - accuracy: 0.8793\n",
            "Epoch 132/200\n",
            "28/28 [==============================] - 0s 2ms/step - loss: 0.3551 - accuracy: 0.8503\n",
            "Epoch 133/200\n",
            "28/28 [==============================] - 0s 1ms/step - loss: 0.3229 - accuracy: 0.8600\n",
            "Epoch 134/200\n",
            "28/28 [==============================] - 0s 1ms/step - loss: 0.3201 - accuracy: 0.8692\n",
            "Epoch 135/200\n",
            "28/28 [==============================] - 0s 2ms/step - loss: 0.2950 - accuracy: 0.8888\n",
            "Epoch 136/200\n",
            "28/28 [==============================] - 0s 2ms/step - loss: 0.3014 - accuracy: 0.8659\n",
            "Epoch 137/200\n",
            "28/28 [==============================] - 0s 2ms/step - loss: 0.3543 - accuracy: 0.8600\n",
            "Epoch 138/200\n",
            "28/28 [==============================] - 0s 2ms/step - loss: 0.3926 - accuracy: 0.8702\n",
            "Epoch 139/200\n",
            "28/28 [==============================] - 0s 2ms/step - loss: 0.3251 - accuracy: 0.8352\n",
            "Epoch 140/200\n",
            "28/28 [==============================] - 0s 2ms/step - loss: 0.3373 - accuracy: 0.8901\n",
            "Epoch 141/200\n",
            "28/28 [==============================] - 0s 2ms/step - loss: 0.3619 - accuracy: 0.8653\n",
            "Epoch 142/200\n",
            "28/28 [==============================] - 0s 2ms/step - loss: 0.3918 - accuracy: 0.8703\n",
            "Epoch 143/200\n",
            "28/28 [==============================] - 0s 2ms/step - loss: 0.3246 - accuracy: 0.8727\n",
            "Epoch 144/200\n",
            "28/28 [==============================] - 0s 2ms/step - loss: 0.2892 - accuracy: 0.8899\n",
            "Epoch 145/200\n",
            "28/28 [==============================] - 0s 2ms/step - loss: 0.3045 - accuracy: 0.8948\n",
            "Epoch 146/200\n",
            "28/28 [==============================] - 0s 2ms/step - loss: 0.3205 - accuracy: 0.8674\n",
            "Epoch 147/200\n",
            "28/28 [==============================] - 0s 2ms/step - loss: 0.3201 - accuracy: 0.8579\n",
            "Epoch 148/200\n",
            "28/28 [==============================] - 0s 2ms/step - loss: 0.3069 - accuracy: 0.8807\n",
            "Epoch 149/200\n",
            "28/28 [==============================] - 0s 2ms/step - loss: 0.3458 - accuracy: 0.8585\n",
            "Epoch 150/200\n",
            "28/28 [==============================] - 0s 2ms/step - loss: 0.3471 - accuracy: 0.8354\n",
            "Epoch 151/200\n",
            "28/28 [==============================] - 0s 3ms/step - loss: 0.3870 - accuracy: 0.8555\n",
            "Epoch 152/200\n",
            "28/28 [==============================] - 0s 2ms/step - loss: 0.2962 - accuracy: 0.8832\n",
            "Epoch 153/200\n",
            "28/28 [==============================] - 0s 2ms/step - loss: 0.2975 - accuracy: 0.8768\n",
            "Epoch 154/200\n",
            "28/28 [==============================] - 0s 2ms/step - loss: 0.3892 - accuracy: 0.8274\n",
            "Epoch 155/200\n",
            "28/28 [==============================] - 0s 2ms/step - loss: 0.3732 - accuracy: 0.8542\n",
            "Epoch 156/200\n",
            "28/28 [==============================] - 0s 2ms/step - loss: 0.3310 - accuracy: 0.8387\n",
            "Epoch 157/200\n",
            "28/28 [==============================] - 0s 2ms/step - loss: 0.3478 - accuracy: 0.8728\n",
            "Epoch 158/200\n",
            "28/28 [==============================] - 0s 2ms/step - loss: 0.3090 - accuracy: 0.8686\n",
            "Epoch 159/200\n",
            "28/28 [==============================] - 0s 2ms/step - loss: 0.3804 - accuracy: 0.8493\n",
            "Epoch 160/200\n",
            "28/28 [==============================] - 0s 2ms/step - loss: 0.2951 - accuracy: 0.8823\n",
            "Epoch 161/200\n",
            "28/28 [==============================] - 0s 2ms/step - loss: 0.3218 - accuracy: 0.8456\n",
            "Epoch 162/200\n",
            "28/28 [==============================] - 0s 2ms/step - loss: 0.3111 - accuracy: 0.8468\n",
            "Epoch 163/200\n",
            "28/28 [==============================] - 0s 2ms/step - loss: 0.3241 - accuracy: 0.8525\n",
            "Epoch 164/200\n",
            "28/28 [==============================] - 0s 2ms/step - loss: 0.3414 - accuracy: 0.8610\n",
            "Epoch 165/200\n",
            "28/28 [==============================] - 0s 2ms/step - loss: 0.3481 - accuracy: 0.8546\n",
            "Epoch 166/200\n",
            "28/28 [==============================] - 0s 2ms/step - loss: 0.2861 - accuracy: 0.8965\n",
            "Epoch 167/200\n",
            "28/28 [==============================] - 0s 2ms/step - loss: 0.3304 - accuracy: 0.8560\n",
            "Epoch 168/200\n",
            "28/28 [==============================] - 0s 2ms/step - loss: 0.3160 - accuracy: 0.8848\n",
            "Epoch 169/200\n",
            "28/28 [==============================] - 0s 2ms/step - loss: 0.3001 - accuracy: 0.8948\n",
            "Epoch 170/200\n",
            "28/28 [==============================] - 0s 2ms/step - loss: 0.4315 - accuracy: 0.8581\n",
            "Epoch 171/200\n",
            "28/28 [==============================] - 0s 2ms/step - loss: 0.2926 - accuracy: 0.8956\n",
            "Epoch 172/200\n",
            "28/28 [==============================] - 0s 2ms/step - loss: 0.3209 - accuracy: 0.8936\n",
            "Epoch 173/200\n",
            "28/28 [==============================] - 0s 2ms/step - loss: 0.3016 - accuracy: 0.8676\n",
            "Epoch 174/200\n",
            "28/28 [==============================] - 0s 2ms/step - loss: 0.3389 - accuracy: 0.8597\n",
            "Epoch 175/200\n",
            "28/28 [==============================] - 0s 2ms/step - loss: 0.3276 - accuracy: 0.8492\n",
            "Epoch 176/200\n",
            "28/28 [==============================] - 0s 2ms/step - loss: 0.2990 - accuracy: 0.8511\n",
            "Epoch 177/200\n",
            "28/28 [==============================] - 0s 2ms/step - loss: 0.3193 - accuracy: 0.8841\n",
            "Epoch 178/200\n",
            "28/28 [==============================] - 0s 3ms/step - loss: 0.3892 - accuracy: 0.8623\n",
            "Epoch 179/200\n",
            "28/28 [==============================] - 0s 2ms/step - loss: 0.3165 - accuracy: 0.8961\n",
            "Epoch 180/200\n",
            "28/28 [==============================] - 0s 2ms/step - loss: 0.3197 - accuracy: 0.8626\n",
            "Epoch 181/200\n",
            "28/28 [==============================] - 0s 2ms/step - loss: 0.2907 - accuracy: 0.8594\n",
            "Epoch 182/200\n",
            "28/28 [==============================] - 0s 2ms/step - loss: 0.3453 - accuracy: 0.8604\n",
            "Epoch 183/200\n",
            "28/28 [==============================] - 0s 3ms/step - loss: 0.2379 - accuracy: 0.9026\n",
            "Epoch 184/200\n",
            "28/28 [==============================] - 0s 2ms/step - loss: 0.2770 - accuracy: 0.8742\n",
            "Epoch 185/200\n",
            "28/28 [==============================] - 0s 3ms/step - loss: 0.2866 - accuracy: 0.8748\n",
            "Epoch 186/200\n",
            "28/28 [==============================] - 0s 2ms/step - loss: 0.2738 - accuracy: 0.8648\n",
            "Epoch 187/200\n",
            "28/28 [==============================] - 0s 2ms/step - loss: 0.2582 - accuracy: 0.8947\n",
            "Epoch 188/200\n",
            "28/28 [==============================] - 0s 2ms/step - loss: 0.3598 - accuracy: 0.8604\n",
            "Epoch 189/200\n",
            "28/28 [==============================] - 0s 2ms/step - loss: 0.2404 - accuracy: 0.9240\n",
            "Epoch 190/200\n",
            "28/28 [==============================] - 0s 2ms/step - loss: 0.2371 - accuracy: 0.9094\n",
            "Epoch 191/200\n",
            "28/28 [==============================] - 0s 2ms/step - loss: 0.2956 - accuracy: 0.8833\n",
            "Epoch 192/200\n",
            "28/28 [==============================] - 0s 2ms/step - loss: 0.2989 - accuracy: 0.8563\n",
            "Epoch 193/200\n",
            "28/28 [==============================] - 0s 2ms/step - loss: 0.2691 - accuracy: 0.9060\n",
            "Epoch 194/200\n",
            "28/28 [==============================] - 0s 2ms/step - loss: 0.3244 - accuracy: 0.8477\n",
            "Epoch 195/200\n",
            "28/28 [==============================] - 0s 2ms/step - loss: 0.2605 - accuracy: 0.8750\n",
            "Epoch 196/200\n",
            "28/28 [==============================] - 0s 2ms/step - loss: 0.2784 - accuracy: 0.8564\n",
            "Epoch 197/200\n",
            "28/28 [==============================] - 0s 2ms/step - loss: 0.2935 - accuracy: 0.9038\n",
            "Epoch 198/200\n",
            "28/28 [==============================] - 0s 2ms/step - loss: 0.2525 - accuracy: 0.8930\n",
            "Epoch 199/200\n",
            "28/28 [==============================] - 0s 2ms/step - loss: 0.2967 - accuracy: 0.8984\n",
            "Epoch 200/200\n",
            "28/28 [==============================] - 0s 2ms/step - loss: 0.2703 - accuracy: 0.8846\n"
          ],
          "name": "stdout"
        },
        {
          "output_type": "execute_result",
          "data": {
            "text/plain": [
              "<keras.callbacks.History at 0x7fd7bc2b3790>"
            ]
          },
          "metadata": {
            "tags": []
          },
          "execution_count": 58
        }
      ]
    },
    {
      "cell_type": "code",
      "metadata": {
        "colab": {
          "base_uri": "https://localhost:8080/"
        },
        "id": "U7T5l79v0mmc",
        "outputId": "3d0307c9-a09c-496d-e106-41d568991eef"
      },
      "source": [
        "modeld.evaluate(X_test,y_test)"
      ],
      "execution_count": 59,
      "outputs": [
        {
          "output_type": "stream",
          "text": [
            "3/3 [==============================] - 0s 3ms/step - loss: 0.3775 - accuracy: 0.8400\n"
          ],
          "name": "stdout"
        },
        {
          "output_type": "execute_result",
          "data": {
            "text/plain": [
              "[0.37751877307891846, 0.8399999737739563]"
            ]
          },
          "metadata": {
            "tags": []
          },
          "execution_count": 59
        }
      ]
    },
    {
      "cell_type": "code",
      "metadata": {
        "colab": {
          "base_uri": "https://localhost:8080/"
        },
        "id": "MHyunu2509NJ",
        "outputId": "37f6d3c0-e327-4b4d-bcf7-565abde5f5f8"
      },
      "source": [
        "modeld.evaluate(X_train,y_train)"
      ],
      "execution_count": 60,
      "outputs": [
        {
          "output_type": "stream",
          "text": [
            "7/7 [==============================] - 0s 2ms/step - loss: 0.1950 - accuracy: 0.9152\n"
          ],
          "name": "stdout"
        },
        {
          "output_type": "execute_result",
          "data": {
            "text/plain": [
              "[0.19504818320274353, 0.9151785969734192]"
            ]
          },
          "metadata": {
            "tags": []
          },
          "execution_count": 60
        }
      ]
    },
    {
      "cell_type": "markdown",
      "metadata": {
        "id": "JgLwT6HI1XCW"
      },
      "source": [
        "**CONCLUSION**:*Training accuracy is good but test accuracy improved*"
      ]
    },
    {
      "cell_type": "code",
      "metadata": {
        "colab": {
          "base_uri": "https://localhost:8080/"
        },
        "id": "GfkZKmMU1B2p",
        "outputId": "e5495bb5-66c4-4f1c-d139-02251fc7c52f"
      },
      "source": [
        "y_pred = modeld.predict(X_test).reshape(-1)\n",
        "print(y_pred[:10])\n",
        "\n",
        "# round the values to nearest integer ie 0 or 1\n",
        "y_pred = np.round(y_pred)\n",
        "print(y_pred[:10])"
      ],
      "execution_count": 61,
      "outputs": [
        {
          "output_type": "stream",
          "text": [
            "[5.9690666e-01 1.2874162e-07 1.4235258e-01 2.6850402e-03 7.9426765e-03\n",
            " 1.0038820e-01 4.6898693e-02 8.2726479e-03 9.8313558e-01 8.8463248e-06]\n",
            "[1. 0. 0. 0. 0. 0. 0. 0. 1. 0.]\n"
          ],
          "name": "stdout"
        }
      ]
    },
    {
      "cell_type": "code",
      "metadata": {
        "colab": {
          "base_uri": "https://localhost:8080/"
        },
        "id": "lx9K65RF1WCx",
        "outputId": "2a576b0c-ec20-4668-afdf-6e908e931bf6"
      },
      "source": [
        "from sklearn.metrics import confusion_matrix , classification_report\n",
        "\n",
        "print(classification_report(y_test, y_pred))"
      ],
      "execution_count": 62,
      "outputs": [
        {
          "output_type": "stream",
          "text": [
            "              precision    recall  f1-score   support\n",
            "\n",
            "           0       0.91      0.87      0.89        55\n",
            "           1       0.68      0.75      0.71        20\n",
            "\n",
            "    accuracy                           0.84        75\n",
            "   macro avg       0.79      0.81      0.80        75\n",
            "weighted avg       0.85      0.84      0.84        75\n",
            "\n"
          ],
          "name": "stdout"
        }
      ]
    }
  ]
}